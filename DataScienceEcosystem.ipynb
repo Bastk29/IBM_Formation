{
 "cells": [
  {
   "cell_type": "markdown",
   "id": "d0a9c7d3",
   "metadata": {},
   "source": [
    "# Data Science Tools and Ecosystem"
   ]
  },
  {
   "cell_type": "markdown",
   "id": "6b841255",
   "metadata": {},
   "source": [
    "In this notebook, Data Science Tools and Ecosystem are summarized."
   ]
  },
  {
   "cell_type": "markdown",
   "id": "10f1057f",
   "metadata": {},
   "source": [
    "Some of the popular languages that Data Scientists use are: \n",
    "1. Python\n",
    "2. R\n",
    "3. SQL"
   ]
  },
  {
   "cell_type": "markdown",
   "id": "1a09dc56",
   "metadata": {},
   "source": [
    "Certaines des bibliothèques couramment utilisées par les Data Scientists incluent :\n",
    "* Scikit learn\n",
    "* Pandas\n",
    "* ggplot\n",
    "* Tensorflow\n",
    "* Numpy\n",
    "* Matplotlib\n",
    "* Keras\n"
   ]
  },
  {
   "cell_type": "markdown",
   "id": "8f21db46",
   "metadata": {},
   "source": [
    "|Outils de la Science des Données| \n",
    "|-------------|\n",
    "| JupyterNotebook| \n",
    "| VSCode| \n",
    "| Rstudio| "
   ]
  },
  {
   "cell_type": "markdown",
   "id": "20bdb232",
   "metadata": {},
   "source": [
    "### Voici quelques exemples d'évaluation d'expressions arithmétiques en Python"
   ]
  },
  {
   "cell_type": "code",
   "execution_count": 8,
   "id": "142b9d48",
   "metadata": {},
   "outputs": [
    {
     "name": "stdout",
     "output_type": "stream",
     "text": [
      "8\n"
     ]
    }
   ],
   "source": [
    "# Addition de deux nombres\n",
    "resultat = 5 + 3\n",
    "print(resultat)  # Affiche 8"
   ]
  },
  {
   "cell_type": "code",
   "execution_count": 9,
   "id": "74fd3134",
   "metadata": {},
   "outputs": [
    {
     "name": "stdout",
     "output_type": "stream",
     "text": [
      "6\n"
     ]
    }
   ],
   "source": [
    "# Soustraction de deux nombres\n",
    "resultat = 10 - 4\n",
    "print(resultat)  # Affiche 6"
   ]
  },
  {
   "cell_type": "code",
   "execution_count": 10,
   "id": "fddf8b30",
   "metadata": {},
   "outputs": [
    {
     "name": "stdout",
     "output_type": "stream",
     "text": [
      "42\n"
     ]
    }
   ],
   "source": [
    "# Multiplication de deux nombres\n",
    "resultat = 7 * 6\n",
    "print(resultat)  # Affiche 42"
   ]
  },
  {
   "cell_type": "code",
   "execution_count": 11,
   "id": "041ee4c9",
   "metadata": {},
   "outputs": [
    {
     "data": {
      "text/plain": [
       "17"
      ]
     },
     "execution_count": 11,
     "metadata": {},
     "output_type": "execute_result"
    }
   ],
   "source": [
    "#Ceci est une expression arithmétique simple pour multiplier puis additionner des entiers\n",
    "(3*4)+5"
   ]
  },
  {
   "cell_type": "code",
   "execution_count": 12,
   "id": "8e2d13c1",
   "metadata": {},
   "outputs": [
    {
     "data": {
      "text/plain": [
       "3.3333333333333335"
      ]
     },
     "execution_count": 12,
     "metadata": {},
     "output_type": "execute_result"
    }
   ],
   "source": [
    "#Cela convertira 200 minutes en heures en divisant par 60\n",
    "200/60"
   ]
  },
  {
   "cell_type": "markdown",
   "id": "90390c2c",
   "metadata": {},
   "source": [
    "**Objectifs :**\n",
    "* Lister les langages populaires pour la Science des Données\n",
    "* Lister des outils de la Science des Données\n",
    "* Déveloper les compétences en markdown"
   ]
  },
  {
   "cell_type": "markdown",
   "id": "5b5c0715",
   "metadata": {},
   "source": [
    "## Auteur : \n",
    "Bastien Kervizic"
   ]
  }
 ],
 "metadata": {
  "kernelspec": {
   "display_name": "Python 3 (ipykernel)",
   "language": "python",
   "name": "python3"
  },
  "language_info": {
   "codemirror_mode": {
    "name": "ipython",
    "version": 3
   },
   "file_extension": ".py",
   "mimetype": "text/x-python",
   "name": "python",
   "nbconvert_exporter": "python",
   "pygments_lexer": "ipython3",
   "version": "3.11.5"
  }
 },
 "nbformat": 4,
 "nbformat_minor": 5
}
